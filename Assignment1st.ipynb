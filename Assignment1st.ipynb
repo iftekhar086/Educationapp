{
  "nbformat": 4,
  "nbformat_minor": 0,
  "metadata": {
    "colab": {
      "provenance": [],
      "authorship_tag": "ABX9TyO1ovjVATIDRcOxV6oTudxU",
      "include_colab_link": true
    },
    "kernelspec": {
      "name": "python3",
      "display_name": "Python 3"
    },
    "language_info": {
      "name": "python"
    }
  },
  "cells": [
    {
      "cell_type": "markdown",
      "metadata": {
        "id": "view-in-github",
        "colab_type": "text"
      },
      "source": [
        "<a href=\"https://colab.research.google.com/github/iftekhar086/Educationapp/blob/main/Assignment1st.ipynb\" target=\"_parent\"><img src=\"https://colab.research.google.com/assets/colab-badge.svg\" alt=\"Open In Colab\"/></a>"
      ]
    },
    {
      "cell_type": "code",
      "execution_count": null,
      "metadata": {
        "id": "C8UC72fANomK"
      },
      "outputs": [],
      "source": []
    },
    {
      "cell_type": "markdown",
      "source": [
        "# Q1. Explain the key features of python that make it popular choice of programing.\n"
      ],
      "metadata": {
        "id": "cqxFYv6VOn9e"
      }
    },
    {
      "cell_type": "markdown",
      "source": [
        "1.Python is easy to learn it has a simple syntax.\n",
        "2.python has huge industry use like it is used for web development, data analysis, machine learning, automation, and many more.\n",
        "3.python has large active community ensuring numerous libraries, frameworks,and resources are available.\n",
        "4.python is free and open source,\n",
        "5.python has very large collection of libraries.\n",
        "6.pyhton can run on many operating systems, including windows,macOS, and linux.\n",
        "These features of python makes it popular choice of programming\n",
        "\n"
      ],
      "metadata": {
        "id": "3cXbqkh3Pn77"
      }
    },
    {
      "cell_type": "markdown",
      "source": [
        "# Q2. Describe the role of predefined keywords in python and provide examples of how they are used in a program."
      ],
      "metadata": {
        "id": "H-_ilCr2TFo4"
      }
    },
    {
      "cell_type": "markdown",
      "source": [
        "In python predefined keywords are reserved words that have special meanings and are used to perform specific tasks. They are used to define the structure and logic of a program.\n",
        "\n",
        "Example of predefined keywords and its use:\n",
        "1. if, else, elif-used for conditional statements\n",
        "2. for, while -used for loops\n",
        "3. def -used for define function\n",
        "4. import -used for import modules\n",
        "5. break -used for exit the loop\n",
        "6. not -logical NOT operators\n",
        "7. in -used to check the value in a sequence\n",
        "8. is -used to check the value is same"
      ],
      "metadata": {
        "id": "hMhlTXGJTrB_"
      }
    },
    {
      "cell_type": "markdown",
      "source": [
        "# Q3. Compare and contrast mutable and immutable objects in python with example"
      ],
      "metadata": {
        "id": "vqKqWQslHcXq"
      }
    },
    {
      "cell_type": "markdown",
      "source": [
        "Mutable objects are those we can change it after they are created like list,set etc and immutable object that we cant not chnage it after they are created like tuple string etc"
      ],
      "metadata": {
        "id": "SFMW5k3KIIN6"
      }
    },
    {
      "cell_type": "code",
      "source": [
        "#Mutable example\n",
        "list=[1,2,3,4,5]\n",
        "print(list,\"list before\")\n",
        "list[2]=30\n",
        "print(list,'list after')"
      ],
      "metadata": {
        "colab": {
          "base_uri": "https://localhost:8080/"
        },
        "id": "kiZ_zmfiIp2l",
        "outputId": "2faebe53-58e5-4949-be74-076f727cba5c"
      },
      "execution_count": 2,
      "outputs": [
        {
          "output_type": "stream",
          "name": "stdout",
          "text": [
            "[1, 2, 3, 4, 5] list before\n",
            "[1, 2, 30, 4, 5] list after\n"
          ]
        }
      ]
    },
    {
      "cell_type": "code",
      "source": [
        "#Immutable example\n",
        "'''string1=\"pwskills\"\n",
        "print(string1,\"string1 before\")\n",
        "string1[2]=\"a\"\n",
        "print(string1,'string1 after')'''\n",
        "\n",
        "# Tuples are immutable\n",
        "tuple1 = (1, 2, 3)\n",
        "print(tuple1, \"tuple1 before\")\n",
        "tuple1[2]=90\n",
        "print(tuple1, 'tuple after')"
      ],
      "metadata": {
        "colab": {
          "base_uri": "https://localhost:8080/",
          "height": 211
        },
        "id": "uEiALfUGJPnj",
        "outputId": "d15d2ab5-95b5-4ee4-a53d-8fdc4bf54d8f"
      },
      "execution_count": 4,
      "outputs": [
        {
          "output_type": "stream",
          "name": "stdout",
          "text": [
            "(1, 2, 3) tuple1 before\n"
          ]
        },
        {
          "output_type": "error",
          "ename": "TypeError",
          "evalue": "'tuple' object does not support item assignment",
          "traceback": [
            "\u001b[0;31m---------------------------------------------------------------------------\u001b[0m",
            "\u001b[0;31mTypeError\u001b[0m                                 Traceback (most recent call last)",
            "\u001b[0;32m<ipython-input-4-c2f1ad6ad047>\u001b[0m in \u001b[0;36m<cell line: 10>\u001b[0;34m()\u001b[0m\n\u001b[1;32m      8\u001b[0m \u001b[0mtuple1\u001b[0m \u001b[0;34m=\u001b[0m \u001b[0;34m(\u001b[0m\u001b[0;36m1\u001b[0m\u001b[0;34m,\u001b[0m \u001b[0;36m2\u001b[0m\u001b[0;34m,\u001b[0m \u001b[0;36m3\u001b[0m\u001b[0;34m)\u001b[0m\u001b[0;34m\u001b[0m\u001b[0;34m\u001b[0m\u001b[0m\n\u001b[1;32m      9\u001b[0m \u001b[0mprint\u001b[0m\u001b[0;34m(\u001b[0m\u001b[0mtuple1\u001b[0m\u001b[0;34m,\u001b[0m \u001b[0;34m\"tuple1 before\"\u001b[0m\u001b[0;34m)\u001b[0m\u001b[0;34m\u001b[0m\u001b[0;34m\u001b[0m\u001b[0m\n\u001b[0;32m---> 10\u001b[0;31m \u001b[0mtuple1\u001b[0m\u001b[0;34m[\u001b[0m\u001b[0;36m2\u001b[0m\u001b[0;34m]\u001b[0m\u001b[0;34m=\u001b[0m\u001b[0;36m90\u001b[0m\u001b[0;34m\u001b[0m\u001b[0;34m\u001b[0m\u001b[0m\n\u001b[0m\u001b[1;32m     11\u001b[0m \u001b[0mprint\u001b[0m\u001b[0;34m(\u001b[0m\u001b[0mtuple1\u001b[0m\u001b[0;34m,\u001b[0m \u001b[0;34m'tuple after'\u001b[0m\u001b[0;34m)\u001b[0m\u001b[0;34m\u001b[0m\u001b[0;34m\u001b[0m\u001b[0m\n",
            "\u001b[0;31mTypeError\u001b[0m: 'tuple' object does not support item assignment"
          ]
        }
      ]
    },
    {
      "cell_type": "markdown",
      "source": [
        "# Q4. Discuss the different types of operators in Python and provide example how they are used:\n",
        "1. Arithmetic Operators\n",
        "These operators are used to perform mathematical operations.\n",
        "\n",
        "Addition (+)\n",
        "\n",
        "Subtraction (-)\n",
        "\n",
        "Multiplication (*)\n",
        "\n",
        "Division (/)\n",
        "\n",
        "Floor Division (//)\n",
        "\n",
        "Modulus (%)\n",
        "\n",
        "Exponentiation (**)"
      ],
      "metadata": {
        "id": "wAvH0zPRNGar"
      }
    },
    {
      "cell_type": "code",
      "source": [
        "a = 10\n",
        "b =5\n",
        "print(a + b)    # Addition: 13\n",
        "print(a - b)    # Subtraction: 7\n",
        "print(a * b)    # Multiplication: 30\n",
        "print(a / b)    # Division: 3.333...\n",
        "print(a // b)   # Floor Division: 3\n",
        "print(a % b)    # Modulus: 1\n",
        "print(a ** b)   # Exponentiation: 1000"
      ],
      "metadata": {
        "colab": {
          "base_uri": "https://localhost:8080/"
        },
        "id": "Tuxkhd_qNkgt",
        "outputId": "0856a12a-23e4-48df-c672-b155d4b3c40e"
      },
      "execution_count": 7,
      "outputs": [
        {
          "output_type": "stream",
          "name": "stdout",
          "text": [
            "15\n",
            "5\n",
            "50\n",
            "2.0\n",
            "2\n",
            "0\n",
            "100000\n"
          ]
        }
      ]
    },
    {
      "cell_type": "markdown",
      "source": [
        " 2. Comparison Operators\n",
        "These operators compare two values and return a boolean result.\n",
        "\n",
        "Equal to (==)\n",
        "\n",
        "Not equal to (!=)\n",
        "\n",
        "Greater than (>)\n",
        "\n",
        "Less than (<)\n",
        "\n",
        "Greater than or equal to (>=)\n",
        "\n",
        "Less than or equal to (<=)"
      ],
      "metadata": {
        "id": "Rg0gptOpOmWb"
      }
    },
    {
      "cell_type": "code",
      "source": [
        "a = 10\n",
        "b = 3\n",
        "\n",
        "print(a == b)   # False\n",
        "print(a != b)   # True\n",
        "print(a > b)    # True\n",
        "print(a < b)    # False\n",
        "print(a >= b)   # True\n",
        "print(a <= b)   # False"
      ],
      "metadata": {
        "colab": {
          "base_uri": "https://localhost:8080/"
        },
        "id": "mVCKkgQBNa1D",
        "outputId": "11479507-ec27-49b1-967f-244c1ad5bb7e"
      },
      "execution_count": 8,
      "outputs": [
        {
          "output_type": "stream",
          "name": "stdout",
          "text": [
            "False\n",
            "True\n",
            "True\n",
            "False\n",
            "True\n",
            "False\n"
          ]
        }
      ]
    },
    {
      "cell_type": "markdown",
      "source": [
        "3. Logical Operators\n",
        "These operators are used to combine conditional statements.\n",
        "\n",
        "Logical AND (and)\n",
        "\n",
        "Logical OR (or)\n",
        "\n",
        "Logical NOT (not)"
      ],
      "metadata": {
        "id": "q7LHK3YiPKcz"
      }
    },
    {
      "cell_type": "code",
      "source": [
        "a = True\n",
        "b = False\n",
        "\n",
        "print(a and b)  # False\n",
        "print(a or b)   # True\n",
        "print(not a)    # False\n"
      ],
      "metadata": {
        "colab": {
          "base_uri": "https://localhost:8080/"
        },
        "id": "VPd4J7P5PL_2",
        "outputId": "72626c2e-5658-470c-f2ef-ba8f360d9950"
      },
      "execution_count": 9,
      "outputs": [
        {
          "output_type": "stream",
          "name": "stdout",
          "text": [
            "False\n",
            "True\n",
            "False\n"
          ]
        }
      ]
    },
    {
      "cell_type": "markdown",
      "source": [
        "4. Bitwise Operators\n",
        "These operators perform bit-level operations.\n",
        "\n",
        "Bitwise AND (&)\n",
        "Bitwise OR (|)\n",
        "Bitwise XOR (^)\n",
        "Bitwise NOT (~)\n",
        "Bitwise Left Shift (<<)\n",
        "Bitwise Right Shift (>>)"
      ],
      "metadata": {
        "id": "wZU8tGSWPYn5"
      }
    },
    {
      "cell_type": "code",
      "source": [
        "a = 10  # 1010 in binary\n",
        "b = 4   # 0100 in binary\n",
        "\n",
        "print(a & b)    # Bitwise AND: 0 (0000 in binary)\n",
        "print(a | b)    # Bitwise OR: 14 (1110 in binary)\n",
        "print(a ^ b)    # Bitwise XOR: 14 (1110 in binary)\n",
        "print(~a)       # Bitwise NOT: -11\n",
        "print(a << 1)   # Bitwise Left Shift: 20 (10100 in binary)\n",
        "print(a >> 1)   # Bitwise Right Shift: 5 (0101 in binary)\n"
      ],
      "metadata": {
        "id": "2AM56753PaBJ"
      },
      "execution_count": null,
      "outputs": []
    },
    {
      "cell_type": "markdown",
      "source": [
        "5. Assignment Operators\n",
        "These operators are used to assign values to variables.\n",
        "\n",
        "Assignment (=)\n",
        "\n",
        "Add and Assign (+=)\n",
        "\n",
        "Subtract and Assign (-=)\n",
        "\n",
        "Multiply and Assign (*=)\n",
        "\n",
        "Divide and Assign (/=)\n",
        "\n",
        "Floor Divide and Assign (//=)\n",
        "\n",
        "Modulus and Assign (%=)\n",
        "\n",
        "Exponentiate and Assign (**=)\n",
        "\n",
        "Bitwise AND and Assign (&=)\n",
        "\n",
        "Bitwise OR and Assign (|=)\n",
        "\n",
        "Bitwise XOR and Assign (^=)\n",
        "\n",
        "Bitwise Left Shift and Assign (<<=)\n",
        "\n",
        "Bitwise Right Shift and Assign (>>=)"
      ],
      "metadata": {
        "id": "JVGCRRuJPdFc"
      }
    },
    {
      "cell_type": "code",
      "source": [
        "a = 10\n",
        "a += 3    # a = a + 3\n",
        "print(a)  # 13\n",
        "\n",
        "a -= 2    # a = a - 2\n",
        "print(a)  # 11\n",
        "\n",
        "a *= 2    # a = a * 2\n",
        "print(a)  # 22\n",
        "\n",
        "a /= 2    # a = a / 2\n",
        "print(a)  # 11.0\n",
        "\n",
        "a //= 2   # a = a // 2\n",
        "print(a)  # 5.0\n",
        "\n",
        "a %= 3    # a = a % 3\n",
        "print(a)  # 2.0\n",
        "\n",
        "a **= 3   # a = a ** 3\n",
        "print(a)  # 8.0\n"
      ],
      "metadata": {
        "colab": {
          "base_uri": "https://localhost:8080/"
        },
        "id": "SHM0lRY5QC42",
        "outputId": "142fd7a0-12c7-4da8-c35b-8689995d1634"
      },
      "execution_count": 10,
      "outputs": [
        {
          "output_type": "stream",
          "name": "stdout",
          "text": [
            "13\n",
            "11\n",
            "22\n",
            "11.0\n",
            "5.0\n",
            "2.0\n",
            "8.0\n"
          ]
        }
      ]
    },
    {
      "cell_type": "markdown",
      "source": [
        "6. Membership Operators\n",
        "These operators test for membership in a sequence (such as strings, lists, or tuples).\n",
        "\n",
        "in\n",
        "\n",
        "not in"
      ],
      "metadata": {
        "id": "07jjv0ioQtY4"
      }
    },
    {
      "cell_type": "code",
      "source": [
        "x = 'hello'\n",
        "y = [1, 2, 3, 4]\n",
        "\n",
        "print('h' in x)      # True\n",
        "print('z' not in x)  # True\n",
        "print(1 in y)        # True\n",
        "print(10 not in y)   # True\n"
      ],
      "metadata": {
        "colab": {
          "base_uri": "https://localhost:8080/"
        },
        "id": "bQ-PNfbAQw43",
        "outputId": "348e1d25-c789-45bc-af82-9138dea725f1"
      },
      "execution_count": 11,
      "outputs": [
        {
          "output_type": "stream",
          "name": "stdout",
          "text": [
            "True\n",
            "True\n",
            "True\n",
            "True\n"
          ]
        }
      ]
    },
    {
      "cell_type": "markdown",
      "source": [
        "7. Identity Operators\n",
        "These operators compare the memory locations of two objects.\n",
        "\n",
        "is\n",
        "\n",
        "is not\n"
      ],
      "metadata": {
        "id": "JkLYrG9wQ9AO"
      }
    },
    {
      "cell_type": "code",
      "source": [
        "a = 10\n",
        "b = 10\n",
        "c = a\n",
        "\n",
        "print(a is b)       # True\n",
        "print(a is not b)   # False\n",
        "print(a is c)       # True\n",
        "print(a is not c)   # False\n",
        "\n",
        "x = [1, 2, 3]\n",
        "y = [1, 2, 3]\n",
        "\n",
        "print(x is y)       # False\n",
        "print(x == y)       # True\n"
      ],
      "metadata": {
        "colab": {
          "base_uri": "https://localhost:8080/"
        },
        "id": "uWQM6DZRQ8kH",
        "outputId": "60807c51-23b6-4d52-82fc-0cd3219549ed"
      },
      "execution_count": 12,
      "outputs": [
        {
          "output_type": "stream",
          "name": "stdout",
          "text": [
            "True\n",
            "False\n",
            "True\n",
            "False\n",
            "False\n",
            "True\n"
          ]
        }
      ]
    },
    {
      "cell_type": "markdown",
      "source": [
        "# Q5 Explain the concept of typecasting  in pyhon with example"
      ],
      "metadata": {
        "id": "d4ASMxAZRMdj"
      }
    },
    {
      "cell_type": "markdown",
      "source": [
        "the process of converting one data type to another data type is called the typcasting or type conversion\n",
        "example are:\n",
        "\n",
        " int()\n",
        "\n",
        " str()\n",
        "\n",
        " floate()\n"
      ],
      "metadata": {
        "id": "PW7x8KvFRVZ5"
      }
    },
    {
      "cell_type": "code",
      "source": [
        "zomato = 100\n",
        "print(type(zomato))\n",
        "zomato = str(zomato)\n",
        "print(type(zomato))\n",
        "\n"
      ],
      "metadata": {
        "colab": {
          "base_uri": "https://localhost:8080/"
        },
        "id": "eNvCdDSqR64V",
        "outputId": "e66f959d-916c-4d37-bcef-844c62b5e480"
      },
      "execution_count": 15,
      "outputs": [
        {
          "output_type": "stream",
          "name": "stdout",
          "text": [
            "<class 'int'>\n",
            "100\n",
            "<class 'str'>\n",
            "100\n"
          ]
        }
      ]
    },
    {
      "cell_type": "code",
      "source": [
        "s = 10.5\n",
        "print(type(s))\n",
        "s = int(s)\n",
        "print(type(s))"
      ],
      "metadata": {
        "colab": {
          "base_uri": "https://localhost:8080/"
        },
        "id": "V4ACeNFKSiia",
        "outputId": "fe1e94de-30f3-4cff-e12b-114a2f40feeb"
      },
      "execution_count": 16,
      "outputs": [
        {
          "output_type": "stream",
          "name": "stdout",
          "text": [
            "<class 'float'>\n",
            "<class 'int'>\n"
          ]
        }
      ]
    },
    {
      "cell_type": "markdown",
      "source": [
        "#Q6. How do conditional statement work in pyhton? illustrate with example"
      ],
      "metadata": {
        "id": "SJENc1jrUbZH"
      }
    },
    {
      "cell_type": "markdown",
      "source": [
        "Conditional statements in Python allow you to execute certain blocks of code based on whether a condition is true or false. These statements are essential for controlling the flow of your program. The primary conditional statements in Python are if, elif, and else.\n",
        "\n"
      ],
      "metadata": {
        "id": "qoI-ykXbU2D7"
      }
    },
    {
      "cell_type": "code",
      "source": [
        "#example of if\n",
        "t = 10\n",
        "if t > 5:\n",
        "  print( \"t is greater than 5\")"
      ],
      "metadata": {
        "colab": {
          "base_uri": "https://localhost:8080/"
        },
        "id": "RnSWC6UsVAc5",
        "outputId": "47757be3-5552-42e9-9c52-ca4cf8f99abf"
      },
      "execution_count": 21,
      "outputs": [
        {
          "output_type": "stream",
          "name": "stdout",
          "text": [
            "10 t is greater than 15\n"
          ]
        }
      ]
    },
    {
      "cell_type": "code",
      "source": [
        "#example of else\n",
        "t = 3\n",
        "if t > 5:\n",
        "  print( \"t is greater than 5\")\n",
        "else:\n",
        "    print(\"t is less than 5\")"
      ],
      "metadata": {
        "colab": {
          "base_uri": "https://localhost:8080/"
        },
        "id": "7aLTWKr0VgVC",
        "outputId": "e2686ff3-82f3-4db0-ad45-982d2b7984ce"
      },
      "execution_count": 22,
      "outputs": [
        {
          "output_type": "stream",
          "name": "stdout",
          "text": [
            "t is less than 5\n"
          ]
        }
      ]
    },
    {
      "cell_type": "code",
      "source": [
        "#example of elif\n",
        "a = 7\n",
        "if a > 10:\n",
        "  print(\"a is greater than 10\")\n",
        "elif a > 5:\n",
        "  print(\"a is greater than 5\")\n",
        "else:\n",
        "  print(\"a is 5 or less\")\n",
        "\n",
        ""
      ],
      "metadata": {
        "colab": {
          "base_uri": "https://localhost:8080/"
        },
        "id": "LFPPjY1HWMaC",
        "outputId": "8d76f4e3-06fe-4672-d5d9-a00233901f04"
      },
      "execution_count": 26,
      "outputs": [
        {
          "output_type": "stream",
          "name": "stdout",
          "text": [
            "a is greater than 5\n"
          ]
        }
      ]
    },
    {
      "cell_type": "markdown",
      "source": [
        "# Q7 Describe the different types of loops in python and their use case with examples"
      ],
      "metadata": {
        "id": "JKDMDO7XXw6o"
      }
    },
    {
      "cell_type": "markdown",
      "source": [
        "Python provides several types of loops that allow you to execute a block of code multiple times. The primary looping constructs in Python are for loops and while loops. Each has its own use cases and advantages.\n",
        "\n",
        "1. for Loop\n",
        "\n",
        "The for loop in Python is used to iterate over a sequence (such as a list, tuple, string, or range) and execute a block of code for each item in the sequence.\n",
        "\n",
        "Use Cases:\n",
        "\n",
        "Iterating over a list of items\n",
        "\n",
        "Iterating over characters in a string\n",
        "\n",
        "Iterating over a range of numbers"
      ],
      "metadata": {
        "id": "4gCKQpSRYClh"
      }
    },
    {
      "cell_type": "code",
      "source": [
        "for i in range(10):\n",
        "  print(i)"
      ],
      "metadata": {
        "colab": {
          "base_uri": "https://localhost:8080/"
        },
        "id": "_-kinvNKYSw5",
        "outputId": "a787594b-aa73-40ff-ec8a-b28a2c48eb80"
      },
      "execution_count": 27,
      "outputs": [
        {
          "output_type": "stream",
          "name": "stdout",
          "text": [
            "0\n",
            "1\n",
            "2\n",
            "3\n",
            "4\n",
            "5\n",
            "6\n",
            "7\n",
            "8\n",
            "9\n"
          ]
        }
      ]
    },
    {
      "cell_type": "markdown",
      "source": [
        "2. while Loop\n",
        "The while loop in Python is used to repeatedly execute a block of code as long as a condition is true.\n",
        "\n",
        "Use Cases:\n",
        "\n",
        "Repeating a task until a specific condition is met\n",
        "Creating infinite loops (with careful use)\n",
        "Handling user input until valid data is received"
      ],
      "metadata": {
        "id": "88RYXB9YYmkA"
      }
    },
    {
      "cell_type": "code",
      "source": [
        "i = 0\n",
        "\n",
        "while i < 5:\n",
        "    print(i)\n",
        "    i += 1\n"
      ],
      "metadata": {
        "colab": {
          "base_uri": "https://localhost:8080/"
        },
        "id": "i9A3fk-8Y3cF",
        "outputId": "2bfae35d-5509-4e6a-cad2-057bc1a26881"
      },
      "execution_count": 31,
      "outputs": [
        {
          "output_type": "stream",
          "name": "stdout",
          "text": [
            "0\n",
            "1\n",
            "2\n",
            "3\n",
            "4\n"
          ]
        }
      ]
    }
  ]
}